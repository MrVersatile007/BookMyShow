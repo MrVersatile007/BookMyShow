{
  "nbformat": 4,
  "nbformat_minor": 0,
  "metadata": {
    "colab": {
      "name": "Ticket Booking.ipynb",
      "provenance": [],
      "collapsed_sections": [],
      "authorship_tag": "ABX9TyNyqSE+IlJUTLmN4Eju52+K",
      "include_colab_link": true
    },
    "kernelspec": {
      "name": "python3",
      "display_name": "Python 3"
    },
    "language_info": {
      "name": "python"
    }
  },
  "cells": [
    {
      "cell_type": "markdown",
      "metadata": {
        "id": "view-in-github",
        "colab_type": "text"
      },
      "source": [
        "<a href=\"https://colab.research.google.com/github/MrVersatile007/Ticket-Booking-/blob/main/Ticket_Booking.ipynb\" target=\"_parent\"><img src=\"https://colab.research.google.com/assets/colab-badge.svg\" alt=\"Open In Colab\"/></a>"
      ]
    },
    {
      "cell_type": "code",
      "execution_count": 4,
      "metadata": {
        "colab": {
          "base_uri": "https://localhost:8080/"
        },
        "id": "s0Bnr_LyXJvp",
        "outputId": "844a2e96-d43b-4809-9c9e-a17596d22bff"
      },
      "outputs": [
        {
          "output_type": "stream",
          "name": "stdout",
          "text": [
            "Please enter number of rows: 12\n",
            "Please enter number of seats in each rows: 10\n",
            "1. Show the seats\n",
            "2. Buy a Ticket\n",
            "3. Statistics\n",
            "4. Show booked Tickets User Info\n",
            "0. Exit\n",
            "Enter your choice here: 1\n",
            "  1 2 3 4 5 6 7 8 9 10 \n",
            "1 S S S S S S S S S S \n",
            "2 S S S S S S S S S S \n",
            "3 S S S S S S S S S S \n",
            "4 S S S S S S S S S S \n",
            "5 S S S S S S S S S S \n",
            "6 S S S S S S S S S S \n",
            "7 S S S S S S S S S S \n",
            "8 S S S S S S S S S S \n",
            "9 S S S S S S S S S S \n",
            "10 S S S S S S S S S S \n",
            "11 S S S S S S S S S S \n",
            "12 S S S S S S S S S S \n",
            "1. Show the seats\n",
            "2. Buy a Ticket\n",
            "3. Statistics\n",
            "4. Show booked Tickets User Info\n",
            "0. Exit\n",
            "Enter your choice here: 0\n",
            "Okay bye!!! See YOU Soon!!! Thank You!!!\n"
          ]
        }
      ],
      "source": [
        "class Theater:\n",
        "    \n",
        "    def __init__(self, rows, columns):\n",
        "        self.rows = rows\n",
        "        self.columns = columns\n",
        "        self.booking_details = {}\n",
        "        \n",
        "    def show_seats(self):\n",
        "        for row in range(self.rows+1):\n",
        "            for col in range(self.columns+1):\n",
        "                if row==0:\n",
        "                    if col==0:\n",
        "                        print(\" \", end=\" \")\n",
        "                    else:\n",
        "                        print(col, end=\" \")\n",
        "                else:\n",
        "                    if col==0:\n",
        "                        print(row, end=\" \")\n",
        "                    else:\n",
        "                        seat_id = str(row)+str(col)\n",
        "                        if seat_id in self.booking_details:\n",
        "                            print(\"B\", end=\" \")\n",
        "                        else:\n",
        "                            print(\"S\", end=\" \")\n",
        "            print()\n",
        "    def buy_ticekt(self):\n",
        "        row = int(input(\"Please enter the row in which you want to book the seat: \"))\n",
        "        col = int(input(\"Please enter the seat number in the row which you want to book: \"))\n",
        "        #rules for price\n",
        "        seat_id = str(row)+str(col)\n",
        "        if seat_id in self.booking_details:\n",
        "            print(\"Ticket is book already!!!\")\n",
        "            return \n",
        "        total_seats = self.rows * self.columns\n",
        "        if total_seats<=60:\n",
        "            price = 10\n",
        "        else:\n",
        "            half_factor=self.rows//2\n",
        "            if row <= half_factor:\n",
        "                price = 10\n",
        "            else:\n",
        "                price = 8\n",
        "\n",
        "        should_book = int(input(f\"Here is the price for seat number {col} in row {row}: {price}\\nDo you want to book the seat?\\n1. Yes\\n2. No\\n Please your choice: \"))\n",
        "        \n",
        "        if should_book == 1:\n",
        "            name = input(\"Please enter your name: \")\n",
        "            age = input(\"Please enter your age: \")\n",
        "            gender = input(\"Please enter your gender: \")\n",
        "            number = input(\"Please enter your mobile number: \")\n",
        "            # save this details somewhere\n",
        "            \n",
        "            details = {}\n",
        "            details['name']=name\n",
        "            details['age']=age\n",
        "            details['gender']=gender\n",
        "            details['number']=number\n",
        "            details['price']=price\n",
        "            self.booking_details[seat_id]=details\n",
        "            print(\"Ticket Booked succesfully\")\n",
        "        else:\n",
        "            print(\"You decided not to book the seat.\")\n",
        "            \n",
        "    def show_statics(self):\n",
        "        purchased_tickets = len(self.booking_details)\n",
        "        total_seats = self.rows*self.columns\n",
        "        \n",
        "        percentage_of_ticket_booked = (purchased_tickets/total_seats)*100\n",
        "        \n",
        "        current_income=0\n",
        "        for seat_id in self.booking_details:\n",
        "            details = self.booking_details[seat_id]\n",
        "            current_income+=details['price']\n",
        "        \n",
        "        #total income\n",
        "        total_income = 0\n",
        "        total_seats = self.rows * self.columns\n",
        "        if total_seats<=60:\n",
        "            price = 10\n",
        "            total_income += total_seats*price\n",
        "        else:\n",
        "            half_factor=self.rows//2\n",
        "            if row <= half_factor:\n",
        "                price = 10\n",
        "                seats = half_factor*self.columns\n",
        "                total_income += seats*price\n",
        "            else:\n",
        "                price = 8\n",
        "                seats = (self.rows-half_factor)*self.columns\n",
        "                total_income += seats*price\n",
        "                \n",
        "        print(\"Number of Purchased Tickets: \",purchased_tickets)\n",
        "        print(\"Percentage of Tickets booked: \",round(percentage_of_ticket_booked,2))\n",
        "        print(\"Current Income: \",current_income)\n",
        "        print(\"Total Income: \",total_income)\n",
        "\n",
        "        \n",
        "    def show_user_details(self):\n",
        "        row = int(input(\"Please enter the row for which you want to see the booking details: \"))\n",
        "        col = int(input(\"Please enter the seat number in the row for which you want to see the booking details: \"))\n",
        "        seat_id = str(row)+str(col)\n",
        "        if seat_id in self.booking_details:\n",
        "            details = self.booking_details[seat_id] #{'name':\"dipesh\"}\n",
        "            print(f\"Here is the details of user who has booked seat {col} in row {row}: \")\n",
        "            print(f\"Name: {details['name']}\")\n",
        "            print(f\"Age: {details['age']}\")\n",
        "            print(f\"Gender: {details['gender']}\")\n",
        "            print(f\"Number: {details['number']}\")\n",
        "            print(f\"Book for price: {details['price']} $\")\n",
        "        else:\n",
        "            print(\"Seat is not booked so can't show the details\")\n",
        "    \n",
        "\n",
        "rows = int(input(\"Please enter number of rows: \"))\n",
        "columns = int(input(\"Please enter number of seats in each rows: \"))\n",
        "\n",
        "theater = Theater(rows,columns)\n",
        "\n",
        "while True:\n",
        "    try:\n",
        "        choice = int(input(\"1. Show the seats\\n2. Buy a Ticket\\n3. Statistics\\n4. Show booked Tickets User Info\\n0. Exit\\nEnter your choice here: \"))\n",
        "        if choice == 1:\n",
        "            theater.show_seats()\n",
        "        elif choice == 2:\n",
        "            theater.buy_ticekt()\n",
        "        elif choice == 3:\n",
        "            theater.show_statics()\n",
        "        elif choice == 4:\n",
        "            theater.show_user_details()\n",
        "        elif choice == 0:\n",
        "            print(\"Okay bye!!! See YOU Soon!!! Thank You!!!\")\n",
        "            break\n",
        "        else:\n",
        "            print(\"Invalid choice please choose a option from below: \")\n",
        "    except:\n",
        "        print(\"Something went wrong Please give proper input\")\n"
      ]
    },
    {
      "cell_type": "code",
      "source": [
        ""
      ],
      "metadata": {
        "colab": {
          "base_uri": "https://localhost:8080/"
        },
        "id": "KrwVoh2dXVFL",
        "outputId": "f617216a-9b8f-4e0e-a5da-5e9cdff4025f"
      },
      "execution_count": 2,
      "outputs": [
        {
          "output_type": "execute_result",
          "data": {
            "text/plain": [
              "12"
            ]
          },
          "metadata": {},
          "execution_count": 2
        }
      ]
    },
    {
      "cell_type": "code",
      "source": [
        ""
      ],
      "metadata": {
        "colab": {
          "base_uri": "https://localhost:8080/"
        },
        "id": "0yTfcO1jXcOz",
        "outputId": "7126da67-81a1-4b54-ae3c-9960e3b23e29"
      },
      "execution_count": 3,
      "outputs": [
        {
          "output_type": "stream",
          "name": "stdout",
          "text": [
            "12\n"
          ]
        }
      ]
    },
    {
      "cell_type": "code",
      "source": [
        ""
      ],
      "metadata": {
        "id": "of_D_ICGXfyN"
      },
      "execution_count": null,
      "outputs": []
    }
  ]
}